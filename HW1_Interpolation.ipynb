{
 "cells": [
  {
   "cell_type": "code",
   "execution_count": 1,
   "metadata": {
    "executionInfo": {
     "elapsed": 9707,
     "status": "ok",
     "timestamp": 1676171033836,
     "user": {
      "displayName": "Pramod Karkhani",
      "userId": "16388731972693027110"
     },
     "user_tz": 300
    },
    "id": "dALYeDYFkaH-",
    "tags": []
   },
   "outputs": [],
   "source": [
    "import torch\n",
    "import torch.nn as neural_net\n",
    "import torch.optim as optimization\n",
    "from torchvision import datasets, transforms\n",
    "from torch.autograd import Variable\n",
    "import torch.nn.functional as functional\n",
    "import numpy as np\n",
    "import matplotlib.pyplot as visualization\n",
    "import os\n",
    "import statistics as stats"
   ]
  },
  {
   "cell_type": "code",
   "execution_count": 2,
   "metadata": {
    "executionInfo": {
     "elapsed": 207,
     "status": "ok",
     "timestamp": 1676171059230,
     "user": {
      "displayName": "Pramod Karkhani",
      "userId": "16388731972693027110"
     },
     "user_tz": 300
    },
    "id": "Jn0DNAwLlHj_",
    "tags": []
   },
   "outputs": [],
   "source": [
    "torch.manual_seed(1)\n",
    "os.environ['KMP_DUPLICATE_LIB_OK'] = 'True'"
   ]
  },
  {
   "cell_type": "code",
   "execution_count": 3,
   "metadata": {
    "executionInfo": {
     "elapsed": 209,
     "status": "ok",
     "timestamp": 1676171089617,
     "user": {
      "displayName": "Pramod Karkhani",
      "userId": "16388731972693027110"
     },
     "user_tz": 300
    },
    "id": "P6KP2txPlME-",
    "tags": []
   },
   "outputs": [],
   "source": [
    "def load_data(train_batch_size, test_batch_size):\n",
    "    training_data = torch.utils.data.DataLoader(\n",
    "        datasets.MNIST('data', train=True, download=True,\n",
    "                       transform=transforms.Compose([\n",
    "                           transforms.Resize((32, 32)),\n",
    "                           transforms.ToTensor()\n",
    "                       ])),\n",
    "        batch_size=train_batch_size, shuffle=True)\n",
    "\n",
    "    testing_data = torch.utils.data.DataLoader(\n",
    "        datasets.MNIST('data', train=False, transform=transforms.Compose([\n",
    "            transforms.Resize((32, 32)),\n",
    "            transforms.ToTensor()\n",
    "        ])),\n",
    "        batch_size=test_batch_size, shuffle=True)\n",
    "\n",
    "    return (training_data, testing_data)"
   ]
  },
  {
   "cell_type": "code",
   "execution_count": 4,
   "metadata": {
    "executionInfo": {
     "elapsed": 454,
     "status": "ok",
     "timestamp": 1676171109454,
     "user": {
      "displayName": "Pramod Karkhani",
      "userId": "16388731972693027110"
     },
     "user_tz": 300
    },
    "id": "zWzVIsFwlTPa",
    "tags": []
   },
   "outputs": [],
   "source": [
    "class CNN(neural_net.Module):\n",
    "    def __init__(self):\n",
    "        super(CNN, self).__init__()\n",
    "        self.conv_layer1 = neural_net.Conv2d(1, 6, 5)\n",
    "        self.conv_layer2 = neural_net.Conv2d(6, 16, 5)\n",
    "        self.fc_layer1 = neural_net.Linear(16 * 5 * 5, 120)\n",
    "        self.fc_layer2 = neural_net.Linear(120, 84)\n",
    "        self.fc_layer3 = neural_net.Linear(84, 10)\n",
    "\n",
    "    def forward(self, input_data):\n",
    "        input_data = functional.max_pool2d(functional.relu(self.conv_layer1(input_data)), 2)\n",
    "        input_data = functional.max_pool2d(functional.relu(self.conv_layer2(input_data)), 2)\n",
    "        input_data = input_data.view(input_data.size()[0], -1)\n",
    "        input_data = functional.relu(self.fc_layer1(input_data))\n",
    "        input_data = functional.relu(self.fc_layer2(input_data))\n",
    "        input_data = self.fc_layer3(input_data)\n",
    "        return input_data"
   ]
  },
  {
   "cell_type": "code",
   "execution_count": 5,
   "metadata": {
    "executionInfo": {
     "elapsed": 148,
     "status": "ok",
     "timestamp": 1676171128496,
     "user": {
      "displayName": "Pramod Karkhani",
      "userId": "16388731972693027110"
     },
     "user_tz": 300
    },
    "id": "8N1EGt6xlY-T",
    "tags": []
   },
   "outputs": [],
   "source": [
    "def define_optimizer(cnn_model):\n",
    "    return optimization.SGD(cnn_model.parameters(), lr=1e-2, momentum=0.9, nesterov=True)"
   ]
  },
  {
   "cell_type": "code",
   "execution_count": 6,
   "metadata": {
    "executionInfo": {
     "elapsed": 173,
     "status": "ok",
     "timestamp": 1676171149470,
     "user": {
      "displayName": "Pramod Karkhani",
      "userId": "16388731972693027110"
     },
     "user_tz": 300
    },
    "id": "wo3Li1zhlcxe",
    "tags": []
   },
   "outputs": [],
   "source": [
    "def train_model(cnn_model, model_optimizer, training_loader):\n",
    "    cnn_model.train()\n",
    "    for batch_idx, (data_input, data_target) in enumerate(training_loader):\n",
    "        data_input, data_target = Variable(data_input), Variable(data_target)\n",
    "        model_optimizer.zero_grad()\n",
    "        output = cnn_model(data_input)\n",
    "        loss_value = loss_function(output, data_target)\n",
    "        loss_value.backward()\n",
    "        model_optimizer.step()"
   ]
  },
  {
   "cell_type": "code",
   "execution_count": 7,
   "metadata": {
    "executionInfo": {
     "elapsed": 156,
     "status": "ok",
     "timestamp": 1676171182109,
     "user": {
      "displayName": "Pramod Karkhani",
      "userId": "16388731972693027110"
     },
     "user_tz": 300
    },
    "id": "TmGVclJ8lhgE",
    "tags": []
   },
   "outputs": [],
   "source": [
    "def calculate_loss(cnn_model, data_loader, loss_function):\n",
    "    correct_predictions = 0\n",
    "    total_predictions = 0\n",
    "    total_loss = 0\n",
    "    loss_counter = 0\n",
    "    with torch.no_grad():\n",
    "        for batch_data in data_loader:\n",
    "            data_input, data_target = batch_data\n",
    "            output = cnn_model(data_input)\n",
    "            loss = loss_function(output, data_target)\n",
    "            total_loss += loss\n",
    "            loss_counter += 1\n",
    "            for i, output_tensor in enumerate(output):\n",
    "                if torch.argmax(output_tensor) == data_target[i]:\n",
    "                    correct_predictions += 1\n",
    "                total_predictions += 1\n",
    "    return total_loss / loss_counter, round(correct_predictions / total_predictions, 3)"
   ]
  },
  {
   "cell_type": "code",
   "execution_count": 8,
   "metadata": {
    "executionInfo": {
     "elapsed": 151,
     "status": "ok",
     "timestamp": 1676171246951,
     "user": {
      "displayName": "Pramod Karkhani",
      "userId": "16388731972693027110"
     },
     "user_tz": 300
    },
    "id": "gGxNxfhQlp0J",
    "tags": []
   },
   "outputs": [],
   "source": [
    "def compute(cnn_model, model_optimizer):\n",
    "    training_loss_history = []\n",
    "    testing_loss_history = []\n",
    "    testing_accuracy_history = []\n",
    "    training_accuracy_history = []\n",
    "    for epoch in range(1, epochs + 1):\n",
    "        train_model(cnn_model, model_optimizer, train_loader)\n",
    "        train_loss, train_acc = calculate_loss(cnn_model, train_loader, loss_function)\n",
    "        test_loss, test_acc = calculate_loss(cnn_model, test_loader, loss_function)\n",
    "        print(\"TRAINING LOSS --> \", train_loss)\n",
    "        training_loss_history.append(train_loss)\n",
    "        testing_loss_history.append(test_loss)\n",
    "        training_accuracy_history.append(train_acc)\n",
    "        testing_accuracy_history.append(test_acc)\n",
    "    return training_loss_history, testing_loss_history, training_accuracy_history, testing_accuracy_history"
   ]
  },
  {
   "cell_type": "code",
   "execution_count": 9,
   "metadata": {
    "executionInfo": {
     "elapsed": 8,
     "status": "ok",
     "timestamp": 1676171249049,
     "user": {
      "displayName": "Pramod Karkhani",
      "userId": "16388731972693027110"
     },
     "user_tz": 300
    },
    "id": "WBY-__-ilz4E",
    "tags": []
   },
   "outputs": [],
   "source": [
    "epochs = 15"
   ]
  },
  {
   "cell_type": "code",
   "execution_count": 10,
   "metadata": {
    "colab": {
     "base_uri": "https://localhost:8080/",
     "height": 944,
     "referenced_widgets": [
      "e5e7b900dc4b4bcfb37d4a78dd123405",
      "a6377cecb4ef47f59e957b023ea39344",
      "946d12b4e65f4ff4b4612453fe2e0589",
      "3395df9b75ee4355abbbfb376b71c837",
      "ead8cddcea594f84af902d4aeb57222c",
      "1bfc0d7f2d8b4f16bff0891199b62cd3",
      "0faf18e1ef324e78aa6aa396cbcfd4d3",
      "9f1f614c92cc44efb03709dc730635bc",
      "583e290ec11744cdb78efcb66304662b",
      "47f67a89a5a846f4b722cbbc8dbb8073",
      "85f8743b5966459c92ef1f55391d29f4",
      "c5f1473380514b47a0e801b8baa614cc",
      "896549473cc9415ba16ec77c8b4d9a70",
      "393532ee2b4b4d93a0eb541a59336cab",
      "3c34b225818f4bfe9d9a4f40d029b184",
      "9aa44676b71a4cf18ab189e51a38c241",
      "e684a8354721417cb74e3d32bcef4024",
      "162691e6cd0c4fca84abca2f748a71bf",
      "ceaedf488c534b59a3b8bb73f34d557b",
      "89462c74093f45098a114a023c6f1f27",
      "002a3d515ed4423f9bb458878acaaada",
      "7838f3fb36e349729c82c6b832c988c8",
      "db150c428e854e22b6051547c6c865f9",
      "66811cdc25c44a029eea49a802bfe488",
      "4c936c1491b94434b1ee07fcbab8820f",
      "3efc20a78abd444db8e559a5aded6cfe",
      "3f87446561294ca2b58d5f52d5aeedff",
      "45cdd4024e074f9cbf1e7b3a55f7f78d",
      "09eb9529a07d4a09b77d2e7330b772a2",
      "4203768864104f0292442cdd6ba1d3bd",
      "b62d4d3b26864de6a7c3a1a3a3ff1fed",
      "1f94af4237bc4664b9d6c922e2824c6d",
      "fd11f032aaa04bf7822a47cfa1d09a39",
      "246ca14e4dae498aa5a82726a1fe867f",
      "9be9bcb12fec497a93481a26d43c955d",
      "32ddadc98c9343b6998682045b3254c1",
      "8192f294b18c452a951e4ccf7f2f26ec",
      "ddab109eff4f41028dd862e4a4c20640",
      "ef08acc9111f4045bacf30059470ce13",
      "b57536c6253a41bfbd04e85b61f593d1",
      "ff4692a5e85344f288a014449f610341",
      "5b1f17b06b134314b0f8d674b8c2a2a6",
      "bfc033f7e50741b7863d290d829c830d",
      "39b6aa8c9327483cbdf4eecbb8603657"
     ]
    },
    "executionInfo": {
     "elapsed": 1361103,
     "status": "ok",
     "timestamp": 1676172634202,
     "user": {
      "displayName": "Pramod Karkhani",
      "userId": "16388731972693027110"
     },
     "user_tz": 300
    },
    "id": "AyLEIhjgl28f",
    "outputId": "03f33b7a-d94a-4df6-c725-12b0a86e3431",
    "tags": []
   },
   "outputs": [
    {
     "name": "stdout",
     "output_type": "stream",
     "text": [
      "TRAINING LOSS -->  tensor(1.4428)\n",
      "TRAINING LOSS -->  tensor(0.2385)\n",
      "TRAINING LOSS -->  tensor(0.1547)\n",
      "TRAINING LOSS -->  tensor(0.1117)\n",
      "TRAINING LOSS -->  tensor(0.0942)\n",
      "TRAINING LOSS -->  tensor(0.0786)\n",
      "TRAINING LOSS -->  tensor(0.0761)\n",
      "TRAINING LOSS -->  tensor(0.0624)\n",
      "TRAINING LOSS -->  tensor(0.0564)\n",
      "TRAINING LOSS -->  tensor(0.0511)\n",
      "TRAINING LOSS -->  tensor(0.0499)\n",
      "TRAINING LOSS -->  tensor(0.0419)\n",
      "TRAINING LOSS -->  tensor(0.0410)\n",
      "TRAINING LOSS -->  tensor(0.0447)\n",
      "TRAINING LOSS -->  tensor(0.0379)\n",
      "TRAINING LOSS -->  tensor(0.1148)\n",
      "TRAINING LOSS -->  tensor(0.0785)\n",
      "TRAINING LOSS -->  tensor(0.0513)\n",
      "TRAINING LOSS -->  tensor(0.0410)\n",
      "TRAINING LOSS -->  tensor(0.0408)\n",
      "TRAINING LOSS -->  tensor(0.0302)\n",
      "TRAINING LOSS -->  tensor(0.0286)\n",
      "TRAINING LOSS -->  tensor(0.0192)\n",
      "TRAINING LOSS -->  tensor(0.0172)\n",
      "TRAINING LOSS -->  tensor(0.0192)\n",
      "TRAINING LOSS -->  tensor(0.0136)\n",
      "TRAINING LOSS -->  tensor(0.0116)\n",
      "TRAINING LOSS -->  tensor(0.0115)\n",
      "TRAINING LOSS -->  tensor(0.0096)\n",
      "TRAINING LOSS -->  tensor(0.0081)\n"
     ]
    }
   ],
   "source": [
    "torch.manual_seed(1)\n",
    "loss_function = torch.nn.CrossEntropyLoss()\n",
    "train_loader, test_loader = load_data(500, 500)\n",
    "cnn_model_batch2 = CNN()\n",
    "optimizer_batch2 = define_optimizer(cnn_model_batch2)\n",
    "batch_2_train_loss, batch_2_test_loss, batch_2_train_acc, batch_2_test_acc = compute(cnn_model_batch2, optimizer_batch2)\n",
    "\n",
    "batch_params_2 = torch.nn.utils.parameters_to_vector(cnn_model_batch2.parameters())\n",
    "\n",
    "torch.manual_seed(1)\n",
    "loss_function = torch.nn.CrossEntropyLoss()\n",
    "train_loader, test_loader = load_data(100, 100)\n",
    "cnn_model_batch1 = CNN()\n",
    "optimizer_batch1 = define_optimizer(cnn_model_batch1)\n",
    "batch_1_train_loss, batch_1_test_loss, batch_1_train_acc, batch_1_test_acc = compute(cnn_model_batch1, optimizer_batch1)\n",
    "\n",
    "batch_params_1 = torch.nn.utils.parameters_to_vector(cnn_model_batch1.parameters())"
   ]
  },
  {
   "cell_type": "code",
   "execution_count": 11,
   "metadata": {
    "colab": {
     "base_uri": "https://localhost:8080/",
     "height": 404
    },
    "executionInfo": {
     "elapsed": 494,
     "status": "ok",
     "timestamp": 1676172809903,
     "user": {
      "displayName": "Pramod Karkhani",
      "userId": "16388731972693027110"
     },
     "user_tz": 300
    },
    "id": "xXyDFYwDrX9R",
    "outputId": "42cdc0ff-0d20-4aa4-9923-a30351295784",
    "tags": []
   },
   "outputs": [
    {
     "data": {
      "image/png": "[encoded data removed]",
      "text/plain": [
       "<Figure size 1500x700 with 1 Axes>"
      ]
     },
     "metadata": {},
     "output_type": "display_data"
    }
   ],
   "source": [
    "visualization.figure(figsize=(15, 7))\n",
    "visualization.plot(np.arange(0, 15, 1), batch_1_train_loss, color=\"orange\", linewidth=2)\n",
    "visualization.plot(np.arange(0, 15, 1), batch_2_train_loss, color=\"purple\", linewidth=2)\n",
    "visualization.title('Training Loss: Batch 1 vs Batch 2', fontsize=18)\n",
    "visualization.legend(['Batch #1', 'Batch #2'])\n",
    "visualization.xlabel('Epoch', fontsize=14)\n",
    "visualization.ylabel('Loss', fontsize=14)\n",
    "visualization.grid(True)\n",
    "visualization.show()"
   ]
  },
  {
   "cell_type": "code",
   "execution_count": 12,
   "metadata": {
    "colab": {
     "base_uri": "https://localhost:8080/",
     "height": 404
    },
    "executionInfo": {
     "elapsed": 376,
     "status": "ok",
     "timestamp": 1676172840541,
     "user": {
      "displayName": "Pramod Karkhani",
      "userId": "16388731972693027110"
     },
     "user_tz": 300
    },
    "id": "n6-l_YlTrujg",
    "outputId": "390400b6-2a74-479a-fafa-3ca843fd4a33",
    "tags": []
   },
   "outputs": [
    {
     "data": {
      "image/png": "[encoded data removed]",
      "text/plain": [
       "<Figure size 1500x700 with 1 Axes>"
      ]
     },
     "metadata": {},
     "output_type": "display_data"
    }
   ],
   "source": [
    "visualization.figure(figsize=(15, 7))\n",
    "visualization.plot(np.arange(0, 15, 1), batch_1_test_acc, color=\"red\", linewidth=2)\n",
    "visualization.plot(np.arange(0, 15, 1), batch_2_test_acc, color=\"green\", linewidth=2)\n",
    "visualization.title('Accuracy Comparison: Batch 1 vs Batch 2', fontsize=18)\n",
    "visualization.legend(['Batch #1', 'Batch #2'])\n",
    "visualization.xlabel('Epoch', fontsize=14)\n",
    "visualization.ylabel('Accuracy', fontsize=14)\n",
    "visualization.grid(True)\n",
    "visualization.show()"
   ]
  },
  {
   "cell_type": "code",
   "execution_count": 13,
   "metadata": {
    "executionInfo": {
     "elapsed": 211,
     "status": "ok",
     "timestamp": 1676172953720,
     "user": {
      "displayName": "Pramod Karkhani",
      "userId": "16388731972693027110"
     },
     "user_tz": 300
    },
    "id": "K3mTKnuXsDck",
    "tags": []
   },
   "outputs": [],
   "source": [
    "alpha = np.linspace(-2.0, 2.0, num=50)\n",
    "theta_values = [(1 - a) * batch_params_1 + a * batch_params_2 for a in alpha]"
   ]
  },
  {
   "cell_type": "code",
   "execution_count": 14,
   "metadata": {
    "executionInfo": {
     "elapsed": 186,
     "status": "ok",
     "timestamp": 1676172956371,
     "user": {
      "displayName": "Pramod Karkhani",
      "userId": "16388731972693027110"
     },
     "user_tz": 300
    },
    "id": "yWjB4fKssPTN",
    "tags": []
   },
   "outputs": [],
   "source": [
    "train_loss_alpha, test_loss_alpha, train_acc_alpha, test_acc_alpha = [], [], [], []"
   ]
  },
  {
   "cell_type": "code",
   "execution_count": 16,
   "metadata": {
    "executionInfo": {
     "elapsed": 594799,
     "status": "ok",
     "timestamp": 1676173553013,
     "user": {
      "displayName": "Pramod Karkhani",
      "userId": "16388731972693027110"
     },
     "user_tz": 300
    },
    "id": "gQwPHzucsT_E",
    "tags": []
   },
   "outputs": [],
   "source": [
    "for theta in theta_values:\n",
    "    torch.manual_seed(1)\n",
    "    model_alpha = CNN()\n",
    "    torch.nn.utils.vector_to_parameters(theta, model_alpha.parameters())\n",
    "    loss_fn = neural_net.CrossEntropyLoss()\n",
    "    train_loss, train_acc = calculate_loss(model_alpha, train_loader, loss_function)\n",
    "    test_loss, test_acc = calculate_loss(model_alpha, test_loader, loss_function)\n",
    "    train_loss_alpha.append(train_loss)\n",
    "    train_acc_alpha.append(train_acc)\n",
    "    test_loss_alpha.append(test_loss)\n",
    "    test_acc_alpha.append(test_acc)"
   ]
  },
  {
   "cell_type": "code",
   "execution_count": 17,
   "metadata": {
    "colab": {
     "base_uri": "https://localhost:8080/",
     "height": 391
    },
    "executionInfo": {
     "elapsed": 636,
     "status": "ok",
     "timestamp": 1676173763681,
     "user": {
      "displayName": "Pramod Karkhani",
      "userId": "16388731972693027110"
     },
     "user_tz": 300
    },
    "id": "KnOoJwwMvXgH",
    "outputId": "ba37fea4-b0f6-4411-f56e-929baaffb4a5",
    "tags": []
   },
   "outputs": [
    {
     "data": {
      "image/png": "[encoded data removed]",
      "text/plain": [
       "<Figure size 1500x700 with 1 Axes>"
      ]
     },
     "metadata": {},
     "output_type": "display_data"
    }
   ],
   "source": [
    "visualization.figure(figsize=(15, 7))\n",
    "visualization.plot(alpha, train_loss_alpha, color=\"blue\", linewidth=2)\n",
    "visualization.plot(alpha, test_loss_alpha, color=\"pink\", linewidth=2)\n",
    "visualization.legend(['Train Loss', 'Test Loss'])\n",
    "visualization.xlabel('Alpha', fontsize=14)\n",
    "visualization.ylabel('Loss', fontsize=14)\n",
    "visualization.grid(True)"
   ]
  },
  {
   "cell_type": "markdown",
   "metadata": {
    "id": "R9gJxS6OvkmA"
   },
   "source": []
  },
  {
   "cell_type": "code",
   "execution_count": 18,
   "metadata": {
    "colab": {
     "base_uri": "https://localhost:8080/",
     "height": 404
    },
    "executionInfo": {
     "elapsed": 454,
     "status": "ok",
     "timestamp": 1676173851283,
     "user": {
      "displayName": "Pramod Karkhani",
      "userId": "16388731972693027110"
     },
     "user_tz": 300
    },
    "id": "n5v44NlFvqAi",
    "outputId": "69968c4b-4feb-4fa0-effa-c5bcc6ac8c78",
    "tags": []
   },
   "outputs": [
    {
     "data": {
      "image/png": "[encoded data removed]",
      "text/plain": [
       "<Figure size 640x480 with 2 Axes>"
      ]
     },
     "metadata": {},
     "output_type": "display_data"
    }
   ],
   "source": [
    "visualization.twinx()\n",
    "visualization.plot(alpha, train_acc_alpha, color=\"black\", linewidth=2)\n",
    "visualization.plot(alpha, test_acc_alpha, color=\"green\", linewidth=2)\n",
    "visualization.legend(['Train Accuracy', 'Test Accuracy'])\n",
    "visualization.ylabel('Accuracy', fontsize=14)\n",
    "visualization.show()"
   ]
  },
  {
   "cell_type": "code",
   "execution_count": 20,
   "metadata": {
    "executionInfo": {
     "elapsed": 181,
     "status": "ok",
     "timestamp": 1676173874368,
     "user": {
      "displayName": "Pramod Karkhani",
      "userId": "16388731972693027110"
     },
     "user_tz": 300
    },
    "id": "qKeA6pnqv2kU",
    "tags": []
   },
   "outputs": [],
   "source": [
    "alpha = np.linspace(-2.0, 2.0, num=50)\n",
    "theta_values = []\n",
    "\n",
    "for i in range(len(alpha)):\n",
    "    theta = (1 - alpha[i]) * batch_params_1 + alpha[i] * batch_params_2\n",
    "    theta_values.append(theta)"
   ]
  },
  {
   "cell_type": "code",
   "execution_count": 21,
   "metadata": {
    "executionInfo": {
     "elapsed": 207,
     "status": "ok",
     "timestamp": 1676173887163,
     "user": {
      "displayName": "Pramod Karkhani",
      "userId": "16388731972693027110"
     },
     "user_tz": 300
    },
    "id": "dTWMLsgKv7GS",
    "tags": []
   },
   "outputs": [],
   "source": [
    "alpha_train_loss_arr = []\n",
    "alpha_test_loss_arr = []\n",
    "alpha_train_acc_arr = []\n",
    "alpha_test_acc_arr = []"
   ]
  },
  {
   "cell_type": "code",
   "execution_count": 23,
   "metadata": {
    "executionInfo": {
     "elapsed": 977431,
     "status": "ok",
     "timestamp": 1676175038736,
     "user": {
      "displayName": "Pramod Karkhani",
      "userId": "16388731972693027110"
     },
     "user_tz": 300
    },
    "id": "nXN4RIkKv_tH",
    "tags": []
   },
   "outputs": [],
   "source": [
    "for i in range(len(theta_values)):\n",
    "    torch.manual_seed(1)\n",
    "    theta = theta_values[i]\n",
    "    \n",
    "    # Create a new model and set the parameters to theta\n",
    "    interpolated_model = CNN()\n",
    "    torch.nn.utils.vector_to_parameters(theta, interpolated_model.parameters())\n",
    "    \n",
    "    # Define loss function\n",
    "    loss_function = neural_net.CrossEntropyLoss()\n",
    "\n",
    "    # Calculate training and testing loss and accuracy\n",
    "    alpha_train_loss, alpha_train_acc = calculate_loss(interpolated_model, train_loader, loss_function)\n",
    "    alpha_test_loss, alpha_test_acc = calculate_loss(interpolated_model, test_loader, loss_function)\n",
    "    \n",
    "    # Append results to respective arrays\n",
    "    alpha_train_loss_arr.append(alpha_train_loss)\n",
    "    alpha_train_acc_arr.append(alpha_train_acc)\n",
    "    alpha_test_loss_arr.append(alpha_test_loss)\n",
    "    alpha_test_acc_arr.append(alpha_test_acc)"
   ]
  },
  {
   "cell_type": "code",
   "execution_count": 26,
   "metadata": {
    "colab": {
     "base_uri": "https://localhost:8080/",
     "height": 391
    },
    "executionInfo": {
     "elapsed": 1113,
     "status": "ok",
     "timestamp": 1676175261549,
     "user": {
      "displayName": "Pramod Karkhani",
      "userId": "16388731972693027110"
     },
     "user_tz": 300
    },
    "id": "TefOLogi0Yab",
    "outputId": "6b8458f9-2814-4118-8e0a-b25ee80db2b8",
    "tags": []
   },
   "outputs": [
    {
     "data": {
      "image/png": "[encoded data removed]",
      "text/plain": [
       "<Figure size 1500x700 with 2 Axes>"
      ]
     },
     "metadata": {},
     "output_type": "display_data"
    }
   ],
   "source": [
    "visualization.figure(figsize=(15, 7))\n",
    "visualization.plot(alpha, alpha_train_loss_arr, color=\"orange\", linewidth=2)\n",
    "visualization.plot(alpha, alpha_test_loss_arr, color=\"purple\", linewidth=2)\n",
    "visualization.legend(['Training Loss', 'Testing Loss'], fontsize=12)\n",
    "visualization.xlabel('', fontsize=14)\n",
    "visualization.ylabel('', fontsize=14)\n",
    "visualization.grid(True)\n",
    "\n",
    "# Twin plot for Accuracy\n",
    "visualization.twinx()\n",
    "visualization.plot(alpha, alpha_train_acc_arr, color=\"black\", linewidth=2)\n",
    "visualization.plot(alpha, alpha_test_acc_arr, color=\"green\", linewidth=2)\n",
    "visualization.legend(['Training Accuracy', 'Testing Accuracy'], fontsize=12)\n",
    "visualization.ylabel('Accuracy', fontsize=14)\n",
    "visualization.title('Loss and Accuracy', fontsize=16)\n",
    "visualization.grid(True)\n",
    "visualization.show()\n"
   ]
  },
  {
   "cell_type": "code",
   "execution_count": null,
   "metadata": {},
   "outputs": [],
   "source": []
  }
 ],
 "metadata": {
  "colab": {
   "authorship_tag": "ABX9TyPE02fVFvUPSML/VxgC2ah3",
   "provenance": []
  },
  "kernelspec": {
   "display_name": "Python 3 (ipykernel)",
   "language": "python",
   "name": "python3"
  },
  "language_info": {
   "codemirror_mode": {
    "name": "ipython",
    "version": 3
   },
   "file_extension": ".py",
   "mimetype": "text/x-python",
   "name": "python",
   "nbconvert_exporter": "python",
   "pygments_lexer": "ipython3",
   "version": "3.11.5"
  },
  "widgets": {
   "application/vnd.jupyter.widget-state+json": {
    "002a3d515ed4423f9bb458878acaaada": {
     "model_module": "@jupyter-widgets/base",
     "model_module_version": "1.2.0",
     "model_name": "LayoutModel",
     "state": {
      "_model_module": "@jupyter-widgets/base",
      "_model_module_version": "1.2.0",
      "_model_name": "LayoutModel",
      "_view_count": null,
      "_view_module": "@jupyter-widgets/base",
      "_view_module_version": "1.2.0",
      "_view_name": "LayoutView",
      "align_content": null,
      "align_items": null,
      "align_self": null,
      "border": null,
      "bottom": null,
      "display": null,
      "flex": null,
      "flex_flow": null,
      "grid_area": null,
      "grid_auto_columns": null,
      "grid_auto_flow": null,
      "grid_auto_rows": null,
      "grid_column": null,
      "grid_gap": null,
      "grid_row": null,
      "grid_template_areas": null,
      "grid_template_columns": null,
      "grid_template_rows": null,
      "height": null,
      "justify_content": null,
      "justify_items": null,
      "left": null,
      "margin": null,
      "max_height": null,
      "max_width": null,
      "min_height": null,
      "min_width": null,
      "object_fit": null,
      "object_position": null,
      "order": null,
      "overflow": null,
      "overflow_x": null,
      "overflow_y": null,
      "padding": null,
      "right": null,
      "top": null,
      "visibility": null,
      "width": null
     }
    },
    "09eb9529a07d4a09b77d2e7330b772a2": {
     "model_module": "@jupyter-widgets/controls",
     "model_module_version": "1.5.0",
     "model_name": "DescriptionStyleModel",
     "state": {
      "_model_module": "@jupyter-widgets/controls",
      "_model_module_version": "1.5.0",
      "_model_name": "DescriptionStyleModel",
      "_view_count": null,
      "_view_module": "@jupyter-widgets/base",
      "_view_module_version": "1.2.0",
      "_view_name": "StyleView",
      "description_width": ""
     }
    },
    "0faf18e1ef324e78aa6aa396cbcfd4d3": {
     "model_module": "@jupyter-widgets/controls",
     "model_module_version": "1.5.0",
     "model_name": "DescriptionStyleModel",
     "state": {
      "_model_module": "@jupyter-widgets/controls",
      "_model_module_version": "1.5.0",
      "_model_name": "DescriptionStyleModel",
      "_view_count": null,
      "_view_module": "@jupyter-widgets/base",
      "_view_module_version": "1.2.0",
      "_view_name": "StyleView",
      "description_width": ""
     }
    },
    "162691e6cd0c4fca84abca2f748a71bf": {
     "model_module": "@jupyter-widgets/controls",
     "model_module_version": "1.5.0",
     "model_name": "DescriptionStyleModel",
     "state": {
      "_model_module": "@jupyter-widgets/controls",
      "_model_module_version": "1.5.0",
      "_model_name": "DescriptionStyleModel",
      "_view_count": null,
      "_view_module": "@jupyter-widgets/base",
      "_view_module_version": "1.2.0",
      "_view_name": "StyleView",
      "description_width": ""
     }
    },
    "1bfc0d7f2d8b4f16bff0891199b62cd3": {
     "model_module": "@jupyter-widgets/base",
     "model_module_version": "1.2.0",
     "model_name": "LayoutModel",
     "state": {
      "_model_module": "@jupyter-widgets/base",
      "_model_module_version": "1.2.0",
      "_model_name": "LayoutModel",
      "_view_count": null,
      "_view_module": "@jupyter-widgets/base",
      "_view_module_version": "1.2.0",
      "_view_name": "LayoutView",
      "align_content": null,
      "align_items": null,
      "align_self": null,
      "border": null,
      "bottom": null,
      "display": null,
      "flex": null,
      "flex_flow": null,
      "grid_area": null,
      "grid_auto_columns": null,
      "grid_auto_flow": null,
      "grid_auto_rows": null,
      "grid_column": null,
      "grid_gap": null,
      "grid_row": null,
      "grid_template_areas": null,
      "grid_template_columns": null,
      "grid_template_rows": null,
      "height": null,
      "justify_content": null,
      "justify_items": null,
      "left": null,
      "margin": null,
      "max_height": null,
      "max_width": null,
      "min_height": null,
      "min_width": null,
      "object_fit": null,
      "object_position": null,
      "order": null,
      "overflow": null,
      "overflow_x": null,
      "overflow_y": null,
      "padding": null,
      "right": null,
      "top": null,
      "visibility": null,
      "width": null
     }
    },
    "1f94af4237bc4664b9d6c922e2824c6d": {
     "model_module": "@jupyter-widgets/base",
     "model_module_version": "1.2.0",
     "model_name": "LayoutModel",
     "state": {
      "_model_module": "@jupyter-widgets/base",
      "_model_module_version": "1.2.0",
      "_model_name": "LayoutModel",
      "_view_count": null,
      "_view_module": "@jupyter-widgets/base",
      "_view_module_version": "1.2.0",
      "_view_name": "LayoutView",
      "align_content": null,
      "align_items": null,
      "align_self": null,
      "border": null,
      "bottom": null,
      "display": null,
      "flex": null,
      "flex_flow": null,
      "grid_area": null,
      "grid_auto_columns": null,
      "grid_auto_flow": null,
      "grid_auto_rows": null,
      "grid_column": null,
      "grid_gap": null,
      "grid_row": null,
      "grid_template_areas": null,
      "grid_template_columns": null,
      "grid_template_rows": null,
      "height": null,
      "justify_content": null,
      "justify_items": null,
      "left": null,
      "margin": null,
      "max_height": null,
      "max_width": null,
      "min_height": null,
      "min_width": null,
      "object_fit": null,
      "object_position": null,
      "order": null,
      "overflow": null,
      "overflow_x": null,
      "overflow_y": null,
      "padding": null,
      "right": null,
      "top": null,
      "visibility": null,
      "width": null
     }
    },
    "246ca14e4dae498aa5a82726a1fe867f": {
     "model_module": "@jupyter-widgets/controls",
     "model_module_version": "1.5.0",
     "model_name": "HBoxModel",
     "state": {
      "_dom_classes": [],
      "_model_module": "@jupyter-widgets/controls",
      "_model_module_version": "1.5.0",
      "_model_name": "HBoxModel",
      "_view_count": null,
      "_view_module": "@jupyter-widgets/controls",
      "_view_module_version": "1.5.0",
      "_view_name": "HBoxView",
      "box_style": "",
      "children": [
       "IPY_MODEL_9be9bcb12fec497a93481a26d43c955d",
       "IPY_MODEL_32ddadc98c9343b6998682045b3254c1",
       "IPY_MODEL_8192f294b18c452a951e4ccf7f2f26ec"
      ],
      "layout": "IPY_MODEL_ddab109eff4f41028dd862e4a4c20640"
     }
    },
    "32ddadc98c9343b6998682045b3254c1": {
     "model_module": "@jupyter-widgets/controls",
     "model_module_version": "1.5.0",
     "model_name": "FloatProgressModel",
     "state": {
      "_dom_classes": [],
      "_model_module": "@jupyter-widgets/controls",
      "_model_module_version": "1.5.0",
      "_model_name": "FloatProgressModel",
      "_view_count": null,
      "_view_module": "@jupyter-widgets/controls",
      "_view_module_version": "1.5.0",
      "_view_name": "ProgressView",
      "bar_style": "success",
      "description": "",
      "description_tooltip": null,
      "layout": "IPY_MODEL_ff4692a5e85344f288a014449f610341",
      "max": 4542,
      "min": 0,
      "orientation": "horizontal",
      "style": "IPY_MODEL_5b1f17b06b134314b0f8d674b8c2a2a6",
      "value": 4542
     }
    },
    "3395df9b75ee4355abbbfb376b71c837": {
     "model_module": "@jupyter-widgets/controls",
     "model_module_version": "1.5.0",
     "model_name": "HTMLModel",
     "state": {
      "_dom_classes": [],
      "_model_module": "@jupyter-widgets/controls",
      "_model_module_version": "1.5.0",
      "_model_name": "HTMLModel",
      "_view_count": null,
      "_view_module": "@jupyter-widgets/controls",
      "_view_module_version": "1.5.0",
      "_view_name": "HTMLView",
      "description": "",
      "description_tooltip": null,
      "layout": "IPY_MODEL_47f67a89a5a846f4b722cbbc8dbb8073",
      "placeholder": "​",
      "style": "IPY_MODEL_85f8743b5966459c92ef1f55391d29f4",
      "value": " 9912422/9912422 [00:00&lt;00:00, 25817987.82it/s]"
     }
    },
    "393532ee2b4b4d93a0eb541a59336cab": {
     "model_module": "@jupyter-widgets/controls",
     "model_module_version": "1.5.0",
     "model_name": "FloatProgressModel",
     "state": {
      "_dom_classes": [],
      "_model_module": "@jupyter-widgets/controls",
      "_model_module_version": "1.5.0",
      "_model_name": "FloatProgressModel",
      "_view_count": null,
      "_view_module": "@jupyter-widgets/controls",
      "_view_module_version": "1.5.0",
      "_view_name": "ProgressView",
      "bar_style": "success",
      "description": "",
      "description_tooltip": null,
      "layout": "IPY_MODEL_ceaedf488c534b59a3b8bb73f34d557b",
      "max": 28881,
      "min": 0,
      "orientation": "horizontal",
      "style": "IPY_MODEL_89462c74093f45098a114a023c6f1f27",
      "value": 28881
     }
    },
    "39b6aa8c9327483cbdf4eecbb8603657": {
     "model_module": "@jupyter-widgets/controls",
     "model_module_version": "1.5.0",
     "model_name": "DescriptionStyleModel",
     "state": {
      "_model_module": "@jupyter-widgets/controls",
      "_model_module_version": "1.5.0",
      "_model_name": "DescriptionStyleModel",
      "_view_count": null,
      "_view_module": "@jupyter-widgets/base",
      "_view_module_version": "1.2.0",
      "_view_name": "StyleView",
      "description_width": ""
     }
    },
    "3c34b225818f4bfe9d9a4f40d029b184": {
     "model_module": "@jupyter-widgets/controls",
     "model_module_version": "1.5.0",
     "model_name": "HTMLModel",
     "state": {
      "_dom_classes": [],
      "_model_module": "@jupyter-widgets/controls",
      "_model_module_version": "1.5.0",
      "_model_name": "HTMLModel",
      "_view_count": null,
      "_view_module": "@jupyter-widgets/controls",
      "_view_module_version": "1.5.0",
      "_view_name": "HTMLView",
      "description": "",
      "description_tooltip": null,
      "layout": "IPY_MODEL_002a3d515ed4423f9bb458878acaaada",
      "placeholder": "​",
      "style": "IPY_MODEL_7838f3fb36e349729c82c6b832c988c8",
      "value": " 28881/28881 [00:00&lt;00:00, 949458.35it/s]"
     }
    },
    "3efc20a78abd444db8e559a5aded6cfe": {
     "model_module": "@jupyter-widgets/controls",
     "model_module_version": "1.5.0",
     "model_name": "HTMLModel",
     "state": {
      "_dom_classes": [],
      "_model_module": "@jupyter-widgets/controls",
      "_model_module_version": "1.5.0",
      "_model_name": "HTMLModel",
      "_view_count": null,
      "_view_module": "@jupyter-widgets/controls",
      "_view_module_version": "1.5.0",
      "_view_name": "HTMLView",
      "description": "",
      "description_tooltip": null,
      "layout": "IPY_MODEL_1f94af4237bc4664b9d6c922e2824c6d",
      "placeholder": "​",
      "style": "IPY_MODEL_fd11f032aaa04bf7822a47cfa1d09a39",
      "value": " 1648877/1648877 [00:00&lt;00:00, 16045700.15it/s]"
     }
    },
    "3f87446561294ca2b58d5f52d5aeedff": {
     "model_module": "@jupyter-widgets/base",
     "model_module_version": "1.2.0",
     "model_name": "LayoutModel",
     "state": {
      "_model_module": "@jupyter-widgets/base",
      "_model_module_version": "1.2.0",
      "_model_name": "LayoutModel",
      "_view_count": null,
      "_view_module": "@jupyter-widgets/base",
      "_view_module_version": "1.2.0",
      "_view_name": "LayoutView",
      "align_content": null,
      "align_items": null,
      "align_self": null,
      "border": null,
      "bottom": null,
      "display": null,
      "flex": null,
      "flex_flow": null,
      "grid_area": null,
      "grid_auto_columns": null,
      "grid_auto_flow": null,
      "grid_auto_rows": null,
      "grid_column": null,
      "grid_gap": null,
      "grid_row": null,
      "grid_template_areas": null,
      "grid_template_columns": null,
      "grid_template_rows": null,
      "height": null,
      "justify_content": null,
      "justify_items": null,
      "left": null,
      "margin": null,
      "max_height": null,
      "max_width": null,
      "min_height": null,
      "min_width": null,
      "object_fit": null,
      "object_position": null,
      "order": null,
      "overflow": null,
      "overflow_x": null,
      "overflow_y": null,
      "padding": null,
      "right": null,
      "top": null,
      "visibility": null,
      "width": null
     }
    },
    "4203768864104f0292442cdd6ba1d3bd": {
     "model_module": "@jupyter-widgets/base",
     "model_module_version": "1.2.0",
     "model_name": "LayoutModel",
     "state": {
      "_model_module": "@jupyter-widgets/base",
      "_model_module_version": "1.2.0",
      "_model_name": "LayoutModel",
      "_view_count": null,
      "_view_module": "@jupyter-widgets/base",
      "_view_module_version": "1.2.0",
      "_view_name": "LayoutView",
      "align_content": null,
      "align_items": null,
      "align_self": null,
      "border": null,
      "bottom": null,
      "display": null,
      "flex": null,
      "flex_flow": null,
      "grid_area": null,
      "grid_auto_columns": null,
      "grid_auto_flow": null,
      "grid_auto_rows": null,
      "grid_column": null,
      "grid_gap": null,
      "grid_row": null,
      "grid_template_areas": null,
      "grid_template_columns": null,
      "grid_template_rows": null,
      "height": null,
      "justify_content": null,
      "justify_items": null,
      "left": null,
      "margin": null,
      "max_height": null,
      "max_width": null,
      "min_height": null,
      "min_width": null,
      "object_fit": null,
      "object_position": null,
      "order": null,
      "overflow": null,
      "overflow_x": null,
      "overflow_y": null,
      "padding": null,
      "right": null,
      "top": null,
      "visibility": null,
      "width": null
     }
    },
    "45cdd4024e074f9cbf1e7b3a55f7f78d": {
     "model_module": "@jupyter-widgets/base",
     "model_module_version": "1.2.0",
     "model_name": "LayoutModel",
     "state": {
      "_model_module": "@jupyter-widgets/base",
      "_model_module_version": "1.2.0",
      "_model_name": "LayoutModel",
      "_view_count": null,
      "_view_module": "@jupyter-widgets/base",
      "_view_module_version": "1.2.0",
      "_view_name": "LayoutView",
      "align_content": null,
      "align_items": null,
      "align_self": null,
      "border": null,
      "bottom": null,
      "display": null,
      "flex": null,
      "flex_flow": null,
      "grid_area": null,
      "grid_auto_columns": null,
      "grid_auto_flow": null,
      "grid_auto_rows": null,
      "grid_column": null,
      "grid_gap": null,
      "grid_row": null,
      "grid_template_areas": null,
      "grid_template_columns": null,
      "grid_template_rows": null,
      "height": null,
      "justify_content": null,
      "justify_items": null,
      "left": null,
      "margin": null,
      "max_height": null,
      "max_width": null,
      "min_height": null,
      "min_width": null,
      "object_fit": null,
      "object_position": null,
      "order": null,
      "overflow": null,
      "overflow_x": null,
      "overflow_y": null,
      "padding": null,
      "right": null,
      "top": null,
      "visibility": null,
      "width": null
     }
    },
    "47f67a89a5a846f4b722cbbc8dbb8073": {
     "model_module": "@jupyter-widgets/base",
     "model_module_version": "1.2.0",
     "model_name": "LayoutModel",
     "state": {
      "_model_module": "@jupyter-widgets/base",
      "_model_module_version": "1.2.0",
      "_model_name": "LayoutModel",
      "_view_count": null,
      "_view_module": "@jupyter-widgets/base",
      "_view_module_version": "1.2.0",
      "_view_name": "LayoutView",
      "align_content": null,
      "align_items": null,
      "align_self": null,
      "border": null,
      "bottom": null,
      "display": null,
      "flex": null,
      "flex_flow": null,
      "grid_area": null,
      "grid_auto_columns": null,
      "grid_auto_flow": null,
      "grid_auto_rows": null,
      "grid_column": null,
      "grid_gap": null,
      "grid_row": null,
      "grid_template_areas": null,
      "grid_template_columns": null,
      "grid_template_rows": null,
      "height": null,
      "justify_content": null,
      "justify_items": null,
      "left": null,
      "margin": null,
      "max_height": null,
      "max_width": null,
      "min_height": null,
      "min_width": null,
      "object_fit": null,
      "object_position": null,
      "order": null,
      "overflow": null,
      "overflow_x": null,
      "overflow_y": null,
      "padding": null,
      "right": null,
      "top": null,
      "visibility": null,
      "width": null
     }
    },
    "4c936c1491b94434b1ee07fcbab8820f": {
     "model_module": "@jupyter-widgets/controls",
     "model_module_version": "1.5.0",
     "model_name": "FloatProgressModel",
     "state": {
      "_dom_classes": [],
      "_model_module": "@jupyter-widgets/controls",
      "_model_module_version": "1.5.0",
      "_model_name": "FloatProgressModel",
      "_view_count": null,
      "_view_module": "@jupyter-widgets/controls",
      "_view_module_version": "1.5.0",
      "_view_name": "ProgressView",
      "bar_style": "success",
      "description": "",
      "description_tooltip": null,
      "layout": "IPY_MODEL_4203768864104f0292442cdd6ba1d3bd",
      "max": 1648877,
      "min": 0,
      "orientation": "horizontal",
      "style": "IPY_MODEL_b62d4d3b26864de6a7c3a1a3a3ff1fed",
      "value": 1648877
     }
    },
    "583e290ec11744cdb78efcb66304662b": {
     "model_module": "@jupyter-widgets/controls",
     "model_module_version": "1.5.0",
     "model_name": "ProgressStyleModel",
     "state": {
      "_model_module": "@jupyter-widgets/controls",
      "_model_module_version": "1.5.0",
      "_model_name": "ProgressStyleModel",
      "_view_count": null,
      "_view_module": "@jupyter-widgets/base",
      "_view_module_version": "1.2.0",
      "_view_name": "StyleView",
      "bar_color": null,
      "description_width": ""
     }
    },
    "5b1f17b06b134314b0f8d674b8c2a2a6": {
     "model_module": "@jupyter-widgets/controls",
     "model_module_version": "1.5.0",
     "model_name": "ProgressStyleModel",
     "state": {
      "_model_module": "@jupyter-widgets/controls",
      "_model_module_version": "1.5.0",
      "_model_name": "ProgressStyleModel",
      "_view_count": null,
      "_view_module": "@jupyter-widgets/base",
      "_view_module_version": "1.2.0",
      "_view_name": "StyleView",
      "bar_color": null,
      "description_width": ""
     }
    },
    "66811cdc25c44a029eea49a802bfe488": {
     "model_module": "@jupyter-widgets/controls",
     "model_module_version": "1.5.0",
     "model_name": "HTMLModel",
     "state": {
      "_dom_classes": [],
      "_model_module": "@jupyter-widgets/controls",
      "_model_module_version": "1.5.0",
      "_model_name": "HTMLModel",
      "_view_count": null,
      "_view_module": "@jupyter-widgets/controls",
      "_view_module_version": "1.5.0",
      "_view_name": "HTMLView",
      "description": "",
      "description_tooltip": null,
      "layout": "IPY_MODEL_45cdd4024e074f9cbf1e7b3a55f7f78d",
      "placeholder": "​",
      "style": "IPY_MODEL_09eb9529a07d4a09b77d2e7330b772a2",
      "value": "100%"
     }
    },
    "7838f3fb36e349729c82c6b832c988c8": {
     "model_module": "@jupyter-widgets/controls",
     "model_module_version": "1.5.0",
     "model_name": "DescriptionStyleModel",
     "state": {
      "_model_module": "@jupyter-widgets/controls",
      "_model_module_version": "1.5.0",
      "_model_name": "DescriptionStyleModel",
      "_view_count": null,
      "_view_module": "@jupyter-widgets/base",
      "_view_module_version": "1.2.0",
      "_view_name": "StyleView",
      "description_width": ""
     }
    },
    "8192f294b18c452a951e4ccf7f2f26ec": {
     "model_module": "@jupyter-widgets/controls",
     "model_module_version": "1.5.0",
     "model_name": "HTMLModel",
     "state": {
      "_dom_classes": [],
      "_model_module": "@jupyter-widgets/controls",
      "_model_module_version": "1.5.0",
      "_model_name": "HTMLModel",
      "_view_count": null,
      "_view_module": "@jupyter-widgets/controls",
      "_view_module_version": "1.5.0",
      "_view_name": "HTMLView",
      "description": "",
      "description_tooltip": null,
      "layout": "IPY_MODEL_bfc033f7e50741b7863d290d829c830d",
      "placeholder": "​",
      "style": "IPY_MODEL_39b6aa8c9327483cbdf4eecbb8603657",
      "value": " 4542/4542 [00:00&lt;00:00, 119933.07it/s]"
     }
    },
    "85f8743b5966459c92ef1f55391d29f4": {
     "model_module": "@jupyter-widgets/controls",
     "model_module_version": "1.5.0",
     "model_name": "DescriptionStyleModel",
     "state": {
      "_model_module": "@jupyter-widgets/controls",
      "_model_module_version": "1.5.0",
      "_model_name": "DescriptionStyleModel",
      "_view_count": null,
      "_view_module": "@jupyter-widgets/base",
      "_view_module_version": "1.2.0",
      "_view_name": "StyleView",
      "description_width": ""
     }
    },
    "89462c74093f45098a114a023c6f1f27": {
     "model_module": "@jupyter-widgets/controls",
     "model_module_version": "1.5.0",
     "model_name": "ProgressStyleModel",
     "state": {
      "_model_module": "@jupyter-widgets/controls",
      "_model_module_version": "1.5.0",
      "_model_name": "ProgressStyleModel",
      "_view_count": null,
      "_view_module": "@jupyter-widgets/base",
      "_view_module_version": "1.2.0",
      "_view_name": "StyleView",
      "bar_color": null,
      "description_width": ""
     }
    },
    "896549473cc9415ba16ec77c8b4d9a70": {
     "model_module": "@jupyter-widgets/controls",
     "model_module_version": "1.5.0",
     "model_name": "HTMLModel",
     "state": {
      "_dom_classes": [],
      "_model_module": "@jupyter-widgets/controls",
      "_model_module_version": "1.5.0",
      "_model_name": "HTMLModel",
      "_view_count": null,
      "_view_module": "@jupyter-widgets/controls",
      "_view_module_version": "1.5.0",
      "_view_name": "HTMLView",
      "description": "",
      "description_tooltip": null,
      "layout": "IPY_MODEL_e684a8354721417cb74e3d32bcef4024",
      "placeholder": "​",
      "style": "IPY_MODEL_162691e6cd0c4fca84abca2f748a71bf",
      "value": "100%"
     }
    },
    "946d12b4e65f4ff4b4612453fe2e0589": {
     "model_module": "@jupyter-widgets/controls",
     "model_module_version": "1.5.0",
     "model_name": "FloatProgressModel",
     "state": {
      "_dom_classes": [],
      "_model_module": "@jupyter-widgets/controls",
      "_model_module_version": "1.5.0",
      "_model_name": "FloatProgressModel",
      "_view_count": null,
      "_view_module": "@jupyter-widgets/controls",
      "_view_module_version": "1.5.0",
      "_view_name": "ProgressView",
      "bar_style": "success",
      "description": "",
      "description_tooltip": null,
      "layout": "IPY_MODEL_9f1f614c92cc44efb03709dc730635bc",
      "max": 9912422,
      "min": 0,
      "orientation": "horizontal",
      "style": "IPY_MODEL_583e290ec11744cdb78efcb66304662b",
      "value": 9912422
     }
    },
    "9aa44676b71a4cf18ab189e51a38c241": {
     "model_module": "@jupyter-widgets/base",
     "model_module_version": "1.2.0",
     "model_name": "LayoutModel",
     "state": {
      "_model_module": "@jupyter-widgets/base",
      "_model_module_version": "1.2.0",
      "_model_name": "LayoutModel",
      "_view_count": null,
      "_view_module": "@jupyter-widgets/base",
      "_view_module_version": "1.2.0",
      "_view_name": "LayoutView",
      "align_content": null,
      "align_items": null,
      "align_self": null,
      "border": null,
      "bottom": null,
      "display": null,
      "flex": null,
      "flex_flow": null,
      "grid_area": null,
      "grid_auto_columns": null,
      "grid_auto_flow": null,
      "grid_auto_rows": null,
      "grid_column": null,
      "grid_gap": null,
      "grid_row": null,
      "grid_template_areas": null,
      "grid_template_columns": null,
      "grid_template_rows": null,
      "height": null,
      "justify_content": null,
      "justify_items": null,
      "left": null,
      "margin": null,
      "max_height": null,
      "max_width": null,
      "min_height": null,
      "min_width": null,
      "object_fit": null,
      "object_position": null,
      "order": null,
      "overflow": null,
      "overflow_x": null,
      "overflow_y": null,
      "padding": null,
      "right": null,
      "top": null,
      "visibility": null,
      "width": null
     }
    },
    "9be9bcb12fec497a93481a26d43c955d": {
     "model_module": "@jupyter-widgets/controls",
     "model_module_version": "1.5.0",
     "model_name": "HTMLModel",
     "state": {
      "_dom_classes": [],
      "_model_module": "@jupyter-widgets/controls",
      "_model_module_version": "1.5.0",
      "_model_name": "HTMLModel",
      "_view_count": null,
      "_view_module": "@jupyter-widgets/controls",
      "_view_module_version": "1.5.0",
      "_view_name": "HTMLView",
      "description": "",
      "description_tooltip": null,
      "layout": "IPY_MODEL_ef08acc9111f4045bacf30059470ce13",
      "placeholder": "​",
      "style": "IPY_MODEL_b57536c6253a41bfbd04e85b61f593d1",
      "value": "100%"
     }
    },
    "9f1f614c92cc44efb03709dc730635bc": {
     "model_module": "@jupyter-widgets/base",
     "model_module_version": "1.2.0",
     "model_name": "LayoutModel",
     "state": {
      "_model_module": "@jupyter-widgets/base",
      "_model_module_version": "1.2.0",
      "_model_name": "LayoutModel",
      "_view_count": null,
      "_view_module": "@jupyter-widgets/base",
      "_view_module_version": "1.2.0",
      "_view_name": "LayoutView",
      "align_content": null,
      "align_items": null,
      "align_self": null,
      "border": null,
      "bottom": null,
      "display": null,
      "flex": null,
      "flex_flow": null,
      "grid_area": null,
      "grid_auto_columns": null,
      "grid_auto_flow": null,
      "grid_auto_rows": null,
      "grid_column": null,
      "grid_gap": null,
      "grid_row": null,
      "grid_template_areas": null,
      "grid_template_columns": null,
      "grid_template_rows": null,
      "height": null,
      "justify_content": null,
      "justify_items": null,
      "left": null,
      "margin": null,
      "max_height": null,
      "max_width": null,
      "min_height": null,
      "min_width": null,
      "object_fit": null,
      "object_position": null,
      "order": null,
      "overflow": null,
      "overflow_x": null,
      "overflow_y": null,
      "padding": null,
      "right": null,
      "top": null,
      "visibility": null,
      "width": null
     }
    },
    "a6377cecb4ef47f59e957b023ea39344": {
     "model_module": "@jupyter-widgets/controls",
     "model_module_version": "1.5.0",
     "model_name": "HTMLModel",
     "state": {
      "_dom_classes": [],
      "_model_module": "@jupyter-widgets/controls",
      "_model_module_version": "1.5.0",
      "_model_name": "HTMLModel",
      "_view_count": null,
      "_view_module": "@jupyter-widgets/controls",
      "_view_module_version": "1.5.0",
      "_view_name": "HTMLView",
      "description": "",
      "description_tooltip": null,
      "layout": "IPY_MODEL_1bfc0d7f2d8b4f16bff0891199b62cd3",
      "placeholder": "​",
      "style": "IPY_MODEL_0faf18e1ef324e78aa6aa396cbcfd4d3",
      "value": "100%"
     }
    },
    "b57536c6253a41bfbd04e85b61f593d1": {
     "model_module": "@jupyter-widgets/controls",
     "model_module_version": "1.5.0",
     "model_name": "DescriptionStyleModel",
     "state": {
      "_model_module": "@jupyter-widgets/controls",
      "_model_module_version": "1.5.0",
      "_model_name": "DescriptionStyleModel",
      "_view_count": null,
      "_view_module": "@jupyter-widgets/base",
      "_view_module_version": "1.2.0",
      "_view_name": "StyleView",
      "description_width": ""
     }
    },
    "b62d4d3b26864de6a7c3a1a3a3ff1fed": {
     "model_module": "@jupyter-widgets/controls",
     "model_module_version": "1.5.0",
     "model_name": "ProgressStyleModel",
     "state": {
      "_model_module": "@jupyter-widgets/controls",
      "_model_module_version": "1.5.0",
      "_model_name": "ProgressStyleModel",
      "_view_count": null,
      "_view_module": "@jupyter-widgets/base",
      "_view_module_version": "1.2.0",
      "_view_name": "StyleView",
      "bar_color": null,
      "description_width": ""
     }
    },
    "bfc033f7e50741b7863d290d829c830d": {
     "model_module": "@jupyter-widgets/base",
     "model_module_version": "1.2.0",
     "model_name": "LayoutModel",
     "state": {
      "_model_module": "@jupyter-widgets/base",
      "_model_module_version": "1.2.0",
      "_model_name": "LayoutModel",
      "_view_count": null,
      "_view_module": "@jupyter-widgets/base",
      "_view_module_version": "1.2.0",
      "_view_name": "LayoutView",
      "align_content": null,
      "align_items": null,
      "align_self": null,
      "border": null,
      "bottom": null,
      "display": null,
      "flex": null,
      "flex_flow": null,
      "grid_area": null,
      "grid_auto_columns": null,
      "grid_auto_flow": null,
      "grid_auto_rows": null,
      "grid_column": null,
      "grid_gap": null,
      "grid_row": null,
      "grid_template_areas": null,
      "grid_template_columns": null,
      "grid_template_rows": null,
      "height": null,
      "justify_content": null,
      "justify_items": null,
      "left": null,
      "margin": null,
      "max_height": null,
      "max_width": null,
      "min_height": null,
      "min_width": null,
      "object_fit": null,
      "object_position": null,
      "order": null,
      "overflow": null,
      "overflow_x": null,
      "overflow_y": null,
      "padding": null,
      "right": null,
      "top": null,
      "visibility": null,
      "width": null
     }
    },
    "c5f1473380514b47a0e801b8baa614cc": {
     "model_module": "@jupyter-widgets/controls",
     "model_module_version": "1.5.0",
     "model_name": "HBoxModel",
     "state": {
      "_dom_classes": [],
      "_model_module": "@jupyter-widgets/controls",
      "_model_module_version": "1.5.0",
      "_model_name": "HBoxModel",
      "_view_count": null,
      "_view_module": "@jupyter-widgets/controls",
      "_view_module_version": "1.5.0",
      "_view_name": "HBoxView",
      "box_style": "",
      "children": [
       "IPY_MODEL_896549473cc9415ba16ec77c8b4d9a70",
       "IPY_MODEL_393532ee2b4b4d93a0eb541a59336cab",
       "IPY_MODEL_3c34b225818f4bfe9d9a4f40d029b184"
      ],
      "layout": "IPY_MODEL_9aa44676b71a4cf18ab189e51a38c241"
     }
    },
    "ceaedf488c534b59a3b8bb73f34d557b": {
     "model_module": "@jupyter-widgets/base",
     "model_module_version": "1.2.0",
     "model_name": "LayoutModel",
     "state": {
      "_model_module": "@jupyter-widgets/base",
      "_model_module_version": "1.2.0",
      "_model_name": "LayoutModel",
      "_view_count": null,
      "_view_module": "@jupyter-widgets/base",
      "_view_module_version": "1.2.0",
      "_view_name": "LayoutView",
      "align_content": null,
      "align_items": null,
      "align_self": null,
      "border": null,
      "bottom": null,
      "display": null,
      "flex": null,
      "flex_flow": null,
      "grid_area": null,
      "grid_auto_columns": null,
      "grid_auto_flow": null,
      "grid_auto_rows": null,
      "grid_column": null,
      "grid_gap": null,
      "grid_row": null,
      "grid_template_areas": null,
      "grid_template_columns": null,
      "grid_template_rows": null,
      "height": null,
      "justify_content": null,
      "justify_items": null,
      "left": null,
      "margin": null,
      "max_height": null,
      "max_width": null,
      "min_height": null,
      "min_width": null,
      "object_fit": null,
      "object_position": null,
      "order": null,
      "overflow": null,
      "overflow_x": null,
      "overflow_y": null,
      "padding": null,
      "right": null,
      "top": null,
      "visibility": null,
      "width": null
     }
    },
    "db150c428e854e22b6051547c6c865f9": {
     "model_module": "@jupyter-widgets/controls",
     "model_module_version": "1.5.0",
     "model_name": "HBoxModel",
     "state": {
      "_dom_classes": [],
      "_model_module": "@jupyter-widgets/controls",
      "_model_module_version": "1.5.0",
      "_model_name": "HBoxModel",
      "_view_count": null,
      "_view_module": "@jupyter-widgets/controls",
      "_view_module_version": "1.5.0",
      "_view_name": "HBoxView",
      "box_style": "",
      "children": [
       "IPY_MODEL_66811cdc25c44a029eea49a802bfe488",
       "IPY_MODEL_4c936c1491b94434b1ee07fcbab8820f",
       "IPY_MODEL_3efc20a78abd444db8e559a5aded6cfe"
      ],
      "layout": "IPY_MODEL_3f87446561294ca2b58d5f52d5aeedff"
     }
    },
    "ddab109eff4f41028dd862e4a4c20640": {
     "model_module": "@jupyter-widgets/base",
     "model_module_version": "1.2.0",
     "model_name": "LayoutModel",
     "state": {
      "_model_module": "@jupyter-widgets/base",
      "_model_module_version": "1.2.0",
      "_model_name": "LayoutModel",
      "_view_count": null,
      "_view_module": "@jupyter-widgets/base",
      "_view_module_version": "1.2.0",
      "_view_name": "LayoutView",
      "align_content": null,
      "align_items": null,
      "align_self": null,
      "border": null,
      "bottom": null,
      "display": null,
      "flex": null,
      "flex_flow": null,
      "grid_area": null,
      "grid_auto_columns": null,
      "grid_auto_flow": null,
      "grid_auto_rows": null,
      "grid_column": null,
      "grid_gap": null,
      "grid_row": null,
      "grid_template_areas": null,
      "grid_template_columns": null,
      "grid_template_rows": null,
      "height": null,
      "justify_content": null,
      "justify_items": null,
      "left": null,
      "margin": null,
      "max_height": null,
      "max_width": null,
      "min_height": null,
      "min_width": null,
      "object_fit": null,
      "object_position": null,
      "order": null,
      "overflow": null,
      "overflow_x": null,
      "overflow_y": null,
      "padding": null,
      "right": null,
      "top": null,
      "visibility": null,
      "width": null
     }
    },
    "e5e7b900dc4b4bcfb37d4a78dd123405": {
     "model_module": "@jupyter-widgets/controls",
     "model_module_version": "1.5.0",
     "model_name": "HBoxModel",
     "state": {
      "_dom_classes": [],
      "_model_module": "@jupyter-widgets/controls",
      "_model_module_version": "1.5.0",
      "_model_name": "HBoxModel",
      "_view_count": null,
      "_view_module": "@jupyter-widgets/controls",
      "_view_module_version": "1.5.0",
      "_view_name": "HBoxView",
      "box_style": "",
      "children": [
       "IPY_MODEL_a6377cecb4ef47f59e957b023ea39344",
       "IPY_MODEL_946d12b4e65f4ff4b4612453fe2e0589",
       "IPY_MODEL_3395df9b75ee4355abbbfb376b71c837"
      ],
      "layout": "IPY_MODEL_ead8cddcea594f84af902d4aeb57222c"
     }
    },
    "e684a8354721417cb74e3d32bcef4024": {
     "model_module": "@jupyter-widgets/base",
     "model_module_version": "1.2.0",
     "model_name": "LayoutModel",
     "state": {
      "_model_module": "@jupyter-widgets/base",
      "_model_module_version": "1.2.0",
      "_model_name": "LayoutModel",
      "_view_count": null,
      "_view_module": "@jupyter-widgets/base",
      "_view_module_version": "1.2.0",
      "_view_name": "LayoutView",
      "align_content": null,
      "align_items": null,
      "align_self": null,
      "border": null,
      "bottom": null,
      "display": null,
      "flex": null,
      "flex_flow": null,
      "grid_area": null,
      "grid_auto_columns": null,
      "grid_auto_flow": null,
      "grid_auto_rows": null,
      "grid_column": null,
      "grid_gap": null,
      "grid_row": null,
      "grid_template_areas": null,
      "grid_template_columns": null,
      "grid_template_rows": null,
      "height": null,
      "justify_content": null,
      "justify_items": null,
      "left": null,
      "margin": null,
      "max_height": null,
      "max_width": null,
      "min_height": null,
      "min_width": null,
      "object_fit": null,
      "object_position": null,
      "order": null,
      "overflow": null,
      "overflow_x": null,
      "overflow_y": null,
      "padding": null,
      "right": null,
      "top": null,
      "visibility": null,
      "width": null
     }
    },
    "ead8cddcea594f84af902d4aeb57222c": {
     "model_module": "@jupyter-widgets/base",
     "model_module_version": "1.2.0",
     "model_name": "LayoutModel",
     "state": {
      "_model_module": "@jupyter-widgets/base",
      "_model_module_version": "1.2.0",
      "_model_name": "LayoutModel",
      "_view_count": null,
      "_view_module": "@jupyter-widgets/base",
      "_view_module_version": "1.2.0",
      "_view_name": "LayoutView",
      "align_content": null,
      "align_items": null,
      "align_self": null,
      "border": null,
      "bottom": null,
      "display": null,
      "flex": null,
      "flex_flow": null,
      "grid_area": null,
      "grid_auto_columns": null,
      "grid_auto_flow": null,
      "grid_auto_rows": null,
      "grid_column": null,
      "grid_gap": null,
      "grid_row": null,
      "grid_template_areas": null,
      "grid_template_columns": null,
      "grid_template_rows": null,
      "height": null,
      "justify_content": null,
      "justify_items": null,
      "left": null,
      "margin": null,
      "max_height": null,
      "max_width": null,
      "min_height": null,
      "min_width": null,
      "object_fit": null,
      "object_position": null,
      "order": null,
      "overflow": null,
      "overflow_x": null,
      "overflow_y": null,
      "padding": null,
      "right": null,
      "top": null,
      "visibility": null,
      "width": null
     }
    },
    "ef08acc9111f4045bacf30059470ce13": {
     "model_module": "@jupyter-widgets/base",
     "model_module_version": "1.2.0",
     "model_name": "LayoutModel",
     "state": {
      "_model_module": "@jupyter-widgets/base",
      "_model_module_version": "1.2.0",
      "_model_name": "LayoutModel",
      "_view_count": null,
      "_view_module": "@jupyter-widgets/base",
      "_view_module_version": "1.2.0",
      "_view_name": "LayoutView",
      "align_content": null,
      "align_items": null,
      "align_self": null,
      "border": null,
      "bottom": null,
      "display": null,
      "flex": null,
      "flex_flow": null,
      "grid_area": null,
      "grid_auto_columns": null,
      "grid_auto_flow": null,
      "grid_auto_rows": null,
      "grid_column": null,
      "grid_gap": null,
      "grid_row": null,
      "grid_template_areas": null,
      "grid_template_columns": null,
      "grid_template_rows": null,
      "height": null,
      "justify_content": null,
      "justify_items": null,
      "left": null,
      "margin": null,
      "max_height": null,
      "max_width": null,
      "min_height": null,
      "min_width": null,
      "object_fit": null,
      "object_position": null,
      "order": null,
      "overflow": null,
      "overflow_x": null,
      "overflow_y": null,
      "padding": null,
      "right": null,
      "top": null,
      "visibility": null,
      "width": null
     }
    },
    "fd11f032aaa04bf7822a47cfa1d09a39": {
     "model_module": "@jupyter-widgets/controls",
     "model_module_version": "1.5.0",
     "model_name": "DescriptionStyleModel",
     "state": {
      "_model_module": "@jupyter-widgets/controls",
      "_model_module_version": "1.5.0",
      "_model_name": "DescriptionStyleModel",
      "_view_count": null,
      "_view_module": "@jupyter-widgets/base",
      "_view_module_version": "1.2.0",
      "_view_name": "StyleView",
      "description_width": ""
     }
    },
    "ff4692a5e85344f288a014449f610341": {
     "model_module": "@jupyter-widgets/base",
     "model_module_version": "1.2.0",
     "model_name": "LayoutModel",
     "state": {
      "_model_module": "@jupyter-widgets/base",
      "_model_module_version": "1.2.0",
      "_model_name": "LayoutModel",
      "_view_count": null,
      "_view_module": "@jupyter-widgets/base",
      "_view_module_version": "1.2.0",
      "_view_name": "LayoutView",
      "align_content": null,
      "align_items": null,
      "align_self": null,
      "border": null,
      "bottom": null,
      "display": null,
      "flex": null,
      "flex_flow": null,
      "grid_area": null,
      "grid_auto_columns": null,
      "grid_auto_flow": null,
      "grid_auto_rows": null,
      "grid_column": null,
      "grid_gap": null,
      "grid_row": null,
      "grid_template_areas": null,
      "grid_template_columns": null,
      "grid_template_rows": null,
      "height": null,
      "justify_content": null,
      "justify_items": null,
      "left": null,
      "margin": null,
      "max_height": null,
      "max_width": null,
      "min_height": null,
      "min_width": null,
      "object_fit": null,
      "object_position": null,
      "order": null,
      "overflow": null,
      "overflow_x": null,
      "overflow_y": null,
      "padding": null,
      "right": null,
      "top": null,
      "visibility": null,
      "width": null
     }
    }
   }
  }
 },
 "nbformat": 4,
 "nbformat_minor": 4
}
